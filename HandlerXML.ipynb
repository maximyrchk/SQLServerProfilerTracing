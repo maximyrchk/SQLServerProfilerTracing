{
 "cells": [
  {
   "cell_type": "markdown",
   "metadata": {},
   "source": [
    "<h1 Tracing XML Handler"
   ]
  },
  {
   "cell_type": "markdown",
   "metadata": {},
   "source": [
    "<h2><center> XML Tracing Handler "
   ]
  },
  {
   "cell_type": "markdown",
   "metadata": {},
   "source": [
    "#### Imports"
   ]
  },
  {
   "cell_type": "code",
   "execution_count": 38,
   "metadata": {},
   "outputs": [],
   "source": [
    "import pandas as pd\n",
    "import xml.etree.ElementTree as et\n",
    "import lxml.etree as ET\n",
    "import shutil as sh\n",
    "import os"
   ]
  },
  {
   "cell_type": "markdown",
   "metadata": {},
   "source": [
    "#### Files\n",
    " - XML_FILE : Tracing XML File from SQL Server Profiler\n",
    " - XSLT_FORMAT : Format style file\n",
    " - XML_TEMP : Temporary file that will be automatically created in process and will be deleted in the end\n",
    " - OUT_FILE : result file that will be created automatically"
   ]
  },
  {
   "cell_type": "code",
   "execution_count": 39,
   "metadata": {},
   "outputs": [],
   "source": [
    "XML_FILE = \"test1.xml\"\n",
    "XSLT_FORMAT = \"Format.xslt\"\n",
    "XML_TEMP = \"TEMP.xml\"\n",
    "TXT_TEMP = \"TEMP.txt\"\n",
    "OUT_FILE = \"results.csv\""
   ]
  },
  {
   "cell_type": "markdown",
   "metadata": {},
   "source": [
    "#### Magic"
   ]
  },
  {
   "cell_type": "code",
   "execution_count": 40,
   "metadata": {},
   "outputs": [
    {
     "name": "stdout",
     "output_type": "stream",
     "text": [
      "<TraceData xmlns=\"http://tempuri.org/TracePersistence.xsd\">\n",
      "\n"
     ]
    }
   ],
   "source": [
    "# Changing first string to tracedata\n",
    "temp = ET.parse(XML_FILE)\n",
    "temp_str = ET.tostring(temp, pretty_print=True).decode()\n",
    "with open(TXT_TEMP, \"w\") as f:\n",
    "    f.write(temp_str)\n",
    "from_file = open(TXT_TEMP) \n",
    "to_file = open(XML_TEMP, mode=\"w\")\n",
    "line = \"<TraceData>\"\n",
    "to_file.write(line)\n",
    "sh.copyfileobj(from_file, to_file)"
   ]
  },
  {
   "cell_type": "code",
   "execution_count": 41,
   "metadata": {},
   "outputs": [],
   "source": [
    "# Converting XML using Format file\n",
    "dom = ET.parse(XML_TEMP)\n",
    "xslt = ET.parse(XSLT_FORMAT)\n",
    "transform = ET.XSLT(xslt)\n",
    "newdom = transform(dom)\n",
    "a = ET.tostring(newdom, pretty_print=True).decode()\n",
    "with open(XML_TEMP, \"w\") as f:\n",
    "    f.write(a)"
   ]
  },
  {
   "cell_type": "code",
   "execution_count": 42,
   "metadata": {},
   "outputs": [],
   "source": [
    "def parse_XML(xml_file, df_cols): \n",
    "    xtree = et.parse(xml_file)\n",
    "    xroot = xtree.getroot()\n",
    "    out_df = pd.DataFrame(columns = df_cols)\n",
    "    \n",
    "    for node in xroot: \n",
    "        res = []\n",
    "        for el in df_cols: \n",
    "            if node is not None and node.find(el) is not None:\n",
    "                res.append(node.find(el).text)\n",
    "            else: \n",
    "                res.append(None)\n",
    "        out_df = out_df.append(pd.Series(res, index = df_cols), ignore_index=True)\n",
    "        \n",
    "    return out_df"
   ]
  },
  {
   "cell_type": "markdown",
   "metadata": {},
   "source": [
    "#### Change parameters if needed"
   ]
  },
  {
   "cell_type": "code",
   "execution_count": 43,
   "metadata": {},
   "outputs": [],
   "source": [
    "# FOR FINDING INFO ABOUT CALCULATED COLUMNS\n",
    "SEARCH_TEXT = \"Finished processing calculated column\"\n",
    "# FOR EXTRACTING OTHER COLUMNS ADD THEM TO LIST\n",
    "COLUMNS_LIST = [\"Duration\",\"TextData\"]   "
   ]
  },
  {
   "cell_type": "code",
   "execution_count": 44,
   "metadata": {
    "scrolled": true
   },
   "outputs": [],
   "source": [
    "df = parse_XML(XML_TEMP, COLUMNS_LIST)\n",
    "df = df[df[\"TextData\"].str.contains(SEARCH_TEXT,na=False)]\n",
    "df[\"Duration\"] = df[\"Duration\"].astype(int)\n",
    "df[\"Duration In Minutes\"] = (df[\"Duration\"]/60000).round(2)\n",
    "df.sort_values(by=\"Duration\", ascending=False).to_csv(OUT_FILE, index=False)"
   ]
  },
  {
   "cell_type": "markdown",
   "metadata": {},
   "source": [
    "#### Deleting temp files"
   ]
  },
  {
   "cell_type": "code",
   "execution_count": 53,
   "metadata": {},
   "outputs": [],
   "source": [
    "os.remove(XML_TEMP)\n",
    "os.remove(TXT_TEMP)"
   ]
  }
 ],
 "metadata": {
  "kernelspec": {
   "display_name": "Python 3",
   "language": "python",
   "name": "python3"
  },
  "language_info": {
   "codemirror_mode": {
    "name": "ipython",
    "version": 3
   },
   "file_extension": ".py",
   "mimetype": "text/x-python",
   "name": "python",
   "nbconvert_exporter": "python",
   "pygments_lexer": "ipython3",
   "version": "3.7.3"
  }
 },
 "nbformat": 4,
 "nbformat_minor": 2
}
